{
 "cells": [
  {
   "cell_type": "code",
   "execution_count": 18,
   "id": "adaf0781",
   "metadata": {},
   "outputs": [],
   "source": [
    "import sys\n",
    "import re\n",
    "from collections import Counter"
   ]
  },
  {
   "cell_type": "code",
   "execution_count": 19,
   "id": "7c847e30",
   "metadata": {},
   "outputs": [],
   "source": [
    "\n",
    "def parse_chat_log(file_path):\n",
    "    messages = []\n",
    "    with open(file_path, 'r') as file:\n",
    "        for line in file:\n",
    "            line = line.strip()\n",
    "            if line.startswith(\"User:\"):\n",
    "                message = line[len(\"User:\"):].strip()\n",
    "                messages.append({\"speaker\": \"User\", \"message\": message})\n",
    "            elif line.startswith(\"AI:\"):\n",
    "                message = line[len(\"AI:\"):].strip()\n",
    "                messages.append({\"speaker\": \"AI\", \"message\": message})\n",
    "    return messages\n"
   ]
  },
  {
   "cell_type": "code",
   "execution_count": 20,
   "id": "23c89c56",
   "metadata": {},
   "outputs": [
    {
     "name": "stdout",
     "output_type": "stream",
     "text": [
      "[{'speaker': 'User', 'message': 'Hi, what is Python?'}, {'speaker': 'AI', 'message': 'Python is a programming language.'}, {'speaker': 'User', 'message': 'What can I do with it?'}, {'speaker': 'AI', 'message': 'You can build websites, analyze data, and more.'}]\n"
     ]
    }
   ],
   "source": [
    "# Directly specify the file path\n",
    "file_path = r\"C:\\Users\\User\\Desktop\\thesis\\qtech_project\\ai-chat-log-summarizer\\chat.txt\"\n",
    "\n",
    "# Call the function and print the result\n",
    "messages = parse_chat_log(file_path)\n",
    "print(messages)"
   ]
  },
  {
   "cell_type": "code",
   "execution_count": 23,
   "id": "ba1864ca",
   "metadata": {},
   "outputs": [
    {
     "name": "stdout",
     "output_type": "stream",
     "text": [
      "Number of exchanges: 2\n",
      "Top keywords: ['python', 'hi', 'programming', 'language', 'build']\n"
     ]
    }
   ],
   "source": [
    "# Define common stop words to exclude from keyword analysis\n",
    "stop_words = set([\n",
    "    \"the\", \"is\", \"and\", \"to\", \"a\", \"in\", \"it\", \"of\", \"for\", \"on\", \"that\", \"with\", \"as\", \"at\", \"by\", \"from\", \"about\",\n",
    "    \"how\", \"what\", \"when\", \"where\", \"who\", \"which\", \"why\", \"can\", \"you\", \"i\", \"me\", \"my\", \"mine\", \"your\", \"yours\",\n",
    "    \"he\", \"she\", \"we\", \"they\", \"them\", \"this\", \"those\", \"am\", \"are\", \"was\", \"were\", \"be\", \"been\", \"being\", \"have\",\n",
    "    \"has\", \"had\", \"do\", \"does\", \"did\", \"will\", \"would\", \"shall\", \"should\", \"may\", \"might\", \"must\", \"could\"\n",
    "])\n",
    "\n",
    "\n",
    "\n",
    "# Calculate message statistics\n",
    "number_of_exchanges = len([m for m in messages if m[\"speaker\"] == \"User\"])\n",
    "\n",
    "# Keyword extraction\n",
    "all_text = ' '.join([m[\"message\"] for m in messages])\n",
    "words = [word.lower() for word in re.split(r'\\W+', all_text) if word and word.lower() not in stop_words]\n",
    "word_counts = Counter(words)\n",
    "top_keywords = [word for word, count in word_counts.most_common(5)]\n",
    "\n",
    "# Print results\n",
    "print(f\"Number of exchanges: {number_of_exchanges}\")\n",
    "print(f\"Top keywords: {top_keywords}\")"
   ]
  },
  {
   "cell_type": "code",
   "execution_count": 24,
   "id": "03b30d6e",
   "metadata": {},
   "outputs": [
    {
     "name": "stdout",
     "output_type": "stream",
     "text": [
      "Summary:\n",
      "- The conversation had 2 exchanges.\n",
      "- The conversation was about python, hi, programming, language, build.\n",
      "- Most common keywords: python, hi, programming, language, build\n"
     ]
    }
   ],
   "source": [
    "# Generate summary\n",
    "summary = (\n",
    "    \"Summary:\\n\"\n",
    "    f\"- The conversation had {number_of_exchanges} exchanges.\\n\"\n",
    "    f\"- The conversation was about {', '.join(top_keywords)}.\\n\"\n",
    "    f\"- Most common keywords: {', '.join(top_keywords)}\"\n",
    ")\n",
    "print(summary)"
   ]
  },
  {
   "cell_type": "markdown",
   "id": "437fb80c",
   "metadata": {},
   "source": [
    "TF-IDF Solution"
   ]
  },
  {
   "cell_type": "code",
   "execution_count": 27,
   "id": "cd0137ab",
   "metadata": {},
   "outputs": [
    {
     "name": "stdout",
     "output_type": "stream",
     "text": [
      "Top keywords: ['analyze' 'build' 'data' 'hi' 'python']\n"
     ]
    }
   ],
   "source": [
    "from sklearn.feature_extraction.text import TfidfVectorizer\n",
    "\n",
    "messages = parse_chat_log(file_path)\n",
    "all_text = [' '.join([m[\"message\"] for m in messages])]\n",
    "vectorizer = TfidfVectorizer(stop_words=list(stop_words), max_features=5)\n",
    "tfidf_matrix = vectorizer.fit_transform(all_text)\n",
    "top_keywords = vectorizer.get_feature_names_out()\n",
    "print(f\"Top keywords: {top_keywords}\")\n"
   ]
  },
  {
   "cell_type": "code",
   "execution_count": 28,
   "id": "a38e3044",
   "metadata": {},
   "outputs": [
    {
     "name": "stdout",
     "output_type": "stream",
     "text": [
      "Total messages: 4\n",
      "User messages: 2\n",
      "AI messages: 2\n"
     ]
    }
   ],
   "source": [
    "total_messages = len(messages)\n",
    "user_messages = len([m for m in messages if m[\"speaker\"] == \"User\"])\n",
    "ai_messages = len([m for m in messages if m[\"speaker\"] == \"AI\"])\n",
    "print(f\"Total messages: {total_messages}\")\n",
    "print(f\"User messages: {user_messages}\")\n",
    "print(f\"AI messages: {ai_messages}\")"
   ]
  },
  {
   "cell_type": "code",
   "execution_count": null,
   "id": "03e66b87",
   "metadata": {},
   "outputs": [],
   "source": []
  }
 ],
 "metadata": {
  "kernelspec": {
   "display_name": "joy",
   "language": "python",
   "name": "python3"
  },
  "language_info": {
   "codemirror_mode": {
    "name": "ipython",
    "version": 3
   },
   "file_extension": ".py",
   "mimetype": "text/x-python",
   "name": "python",
   "nbconvert_exporter": "python",
   "pygments_lexer": "ipython3",
   "version": "3.12.10"
  }
 },
 "nbformat": 4,
 "nbformat_minor": 5
}
