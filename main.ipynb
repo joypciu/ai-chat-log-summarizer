{
 "cells": [
  {
   "cell_type": "code",
   "execution_count": 15,
   "id": "adaf0781",
   "metadata": {},
   "outputs": [],
   "source": [
    "import sys"
   ]
  },
  {
   "cell_type": "code",
   "execution_count": 16,
   "id": "7c847e30",
   "metadata": {},
   "outputs": [],
   "source": [
    "\n",
    "def parse_chat_log(file_path):\n",
    "    messages = []\n",
    "    with open(file_path, 'r') as file:\n",
    "        for line in file:\n",
    "            line = line.strip()\n",
    "            if line.startswith(\"User:\"):\n",
    "                message = line[len(\"User:\"):].strip()\n",
    "                messages.append({\"speaker\": \"User\", \"message\": message})\n",
    "            elif line.startswith(\"AI:\"):\n",
    "                message = line[len(\"AI:\"):].strip()\n",
    "                messages.append({\"speaker\": \"AI\", \"message\": message})\n",
    "    return messages\n"
   ]
  },
  {
   "cell_type": "code",
   "execution_count": 17,
   "id": "23c89c56",
   "metadata": {},
   "outputs": [
    {
     "name": "stdout",
     "output_type": "stream",
     "text": [
      "[{'speaker': 'User', 'message': 'Hi, what is Python?'}, {'speaker': 'AI', 'message': 'Python is a programming language.'}, {'speaker': 'User', 'message': 'What can I do with it?'}, {'speaker': 'AI', 'message': 'You can build websites, analyze data, and more.'}]\n"
     ]
    }
   ],
   "source": [
    "# Directly specify the file path\n",
    "file_path = r\"C:\\Users\\User\\Desktop\\thesis\\qtech_project\\ai-chat-log-summarizer\\chat.txt\"\n",
    "\n",
    "# Call the function and print the result\n",
    "messages = parse_chat_log(file_path)\n",
    "print(messages)"
   ]
  },
  {
   "cell_type": "code",
   "execution_count": null,
   "id": "ba1864ca",
   "metadata": {},
   "outputs": [],
   "source": []
  }
 ],
 "metadata": {
  "kernelspec": {
   "display_name": "joy",
   "language": "python",
   "name": "python3"
  },
  "language_info": {
   "codemirror_mode": {
    "name": "ipython",
    "version": 3
   },
   "file_extension": ".py",
   "mimetype": "text/x-python",
   "name": "python",
   "nbconvert_exporter": "python",
   "pygments_lexer": "ipython3",
   "version": "3.12.10"
  }
 },
 "nbformat": 4,
 "nbformat_minor": 5
}
